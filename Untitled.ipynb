{
 "cells": [
  {
   "cell_type": "code",
   "execution_count": 9,
   "metadata": {},
   "outputs": [
    {
     "name": "stderr",
     "output_type": "stream",
     "text": [
      "C:\\Users\\martin.cheung\\AppData\\Local\\Continuum\\anaconda3\\lib\\site-packages\\win_unicode_console\\__init__.py:31: RuntimeWarning: sys.stdin.encoding == 'cp1252', whereas sys.stdout.encoding == 'UTF-8', readline hook consumer may assume they are the same\n",
      "  readline_hook.enable(use_pyreadline=use_pyreadline)\n"
     ]
    }
   ],
   "source": [
    "import pandas as pd\n",
    "import instaloader as insta"
   ]
  },
  {
   "cell_type": "markdown",
   "metadata": {},
   "source": [
    "## Introduction\n",
    "\n",
    "This is a project to try and use Instagram data (likes, followers, images etc) to assess the quality of each photo. Eventually we can build an app which can score the quality of your photo in real time."
   ]
  },
  {
   "cell_type": "code",
   "execution_count": 2,
   "metadata": {},
   "outputs": [],
   "source": [
    "orig_dat = pd.read_csv(\"orig_dataset.txt\")"
   ]
  },
  {
   "cell_type": "code",
   "execution_count": 3,
   "metadata": {},
   "outputs": [
    {
     "data": {
      "text/html": [
       "<div>\n",
       "<style scoped>\n",
       "    .dataframe tbody tr th:only-of-type {\n",
       "        vertical-align: middle;\n",
       "    }\n",
       "\n",
       "    .dataframe tbody tr th {\n",
       "        vertical-align: top;\n",
       "    }\n",
       "\n",
       "    .dataframe thead th {\n",
       "        text-align: right;\n",
       "    }\n",
       "</style>\n",
       "<table border=\"1\" class=\"dataframe\">\n",
       "  <thead>\n",
       "    <tr style=\"text-align: right;\">\n",
       "      <th></th>\n",
       "      <th>numberPosts</th>\n",
       "      <th>website</th>\n",
       "      <th>urlProfile</th>\n",
       "      <th>username</th>\n",
       "      <th>numberFollowing</th>\n",
       "      <th>descriptionProfile</th>\n",
       "      <th>alias</th>\n",
       "      <th>numberFollowers</th>\n",
       "      <th>urlImgProfile</th>\n",
       "      <th>filename</th>\n",
       "      <th>date</th>\n",
       "      <th>urlImage</th>\n",
       "      <th>mentions</th>\n",
       "      <th>multipleImage</th>\n",
       "      <th>isVideo</th>\n",
       "      <th>localization</th>\n",
       "      <th>tags</th>\n",
       "      <th>numberLikes</th>\n",
       "      <th>url</th>\n",
       "      <th>description</th>\n",
       "    </tr>\n",
       "  </thead>\n",
       "  <tbody>\n",
       "    <tr>\n",
       "      <th>0</th>\n",
       "      <td>988</td>\n",
       "      <td>www.sylviemeis.de</td>\n",
       "      <td>https://www.instagram.com/1misssmeis/</td>\n",
       "      <td>Sylvie Meis Official Account</td>\n",
       "      <td>233</td>\n",
       "      <td>TV Host Let's Dance for RTL Germany / SBS6 / P...</td>\n",
       "      <td>1misssmeis</td>\n",
       "      <td>720979</td>\n",
       "      <td>https://scontent.cdninstagram.com/t51.2885-19/...</td>\n",
       "      <td>18161288_472089323136061_5128727096486526976_n...</td>\n",
       "      <td>2017-04-29T05:00:00.000Z</td>\n",
       "      <td>https://scontent.cdninstagram.com/t51.2885-15/...</td>\n",
       "      <td>['@fraukeludowig_official', '@rtl_exclusiv', '...</td>\n",
       "      <td>False</td>\n",
       "      <td>False</td>\n",
       "      <td>NaN</td>\n",
       "      <td>['#exclusivspezial']</td>\n",
       "      <td>10047</td>\n",
       "      <td>https://www.instagram.com/p/BTdS7XgBe4X/?taken...</td>\n",
       "      <td>With my lovely colleague @fraukeludowig_offici...</td>\n",
       "    </tr>\n",
       "    <tr>\n",
       "      <th>1</th>\n",
       "      <td>988</td>\n",
       "      <td>www.sylviemeis.de</td>\n",
       "      <td>https://www.instagram.com/1misssmeis/</td>\n",
       "      <td>Sylvie Meis Official Account</td>\n",
       "      <td>233</td>\n",
       "      <td>TV Host Let's Dance for RTL Germany / SBS6 / P...</td>\n",
       "      <td>1misssmeis</td>\n",
       "      <td>720979</td>\n",
       "      <td>https://scontent.cdninstagram.com/t51.2885-19/...</td>\n",
       "      <td>18161312_678529115665252_1780327406628765696_n...</td>\n",
       "      <td>2017-04-29T05:00:00.000Z</td>\n",
       "      <td>https://scontent.cdninstagram.com/t51.2885-15/...</td>\n",
       "      <td>['@tine', '@rachelzoe', '@lecolook', '@letsdan...</td>\n",
       "      <td>False</td>\n",
       "      <td>False</td>\n",
       "      <td>NaN</td>\n",
       "      <td>['#jumpsuit', '#glam', '#ootn']</td>\n",
       "      <td>16781</td>\n",
       "      <td>https://www.instagram.com/p/BTdRaquBZTD/?taken...</td>\n",
       "      <td>My look last night, hosting Let's Dance! Style...</td>\n",
       "    </tr>\n",
       "    <tr>\n",
       "      <th>2</th>\n",
       "      <td>988</td>\n",
       "      <td>www.sylviemeis.de</td>\n",
       "      <td>https://www.instagram.com/1misssmeis/</td>\n",
       "      <td>Sylvie Meis Official Account</td>\n",
       "      <td>233</td>\n",
       "      <td>TV Host Let's Dance for RTL Germany / SBS6 / P...</td>\n",
       "      <td>1misssmeis</td>\n",
       "      <td>720979</td>\n",
       "      <td>https://scontent.cdninstagram.com/t51.2885-19/...</td>\n",
       "      <td>18096206_126240614590026_6106733145975947264_n...</td>\n",
       "      <td>2017-04-27T05:00:00.000Z</td>\n",
       "      <td>https://scontent.cdninstagram.com/t51.2885-15/...</td>\n",
       "      <td>['@letsdance', '@rtlde', '@rtlde', '@letsdance']</td>\n",
       "      <td>False</td>\n",
       "      <td>False</td>\n",
       "      <td>NaN</td>\n",
       "      <td>['#rehearsalday', '#behindthescenes']</td>\n",
       "      <td>11227</td>\n",
       "      <td>https://www.instagram.com/p/BTZXesPhDsB/?taken...</td>\n",
       "      <td>Calm before the 'glam' storm! 💋💄💅🏻💆🏼💇🏼Tomorrow...</td>\n",
       "    </tr>\n",
       "    <tr>\n",
       "      <th>3</th>\n",
       "      <td>988</td>\n",
       "      <td>www.sylviemeis.de</td>\n",
       "      <td>https://www.instagram.com/1misssmeis/</td>\n",
       "      <td>Sylvie Meis Official Account</td>\n",
       "      <td>233</td>\n",
       "      <td>TV Host Let's Dance for RTL Germany / SBS6 / P...</td>\n",
       "      <td>1misssmeis</td>\n",
       "      <td>720979</td>\n",
       "      <td>https://scontent.cdninstagram.com/t51.2885-19/...</td>\n",
       "      <td>18094963_1399253156802062_6673302163394920448_...</td>\n",
       "      <td>2017-04-24T05:00:00.000Z</td>\n",
       "      <td>https://scontent.cdninstagram.com/t51.2885-15/...</td>\n",
       "      <td>['@bydanienl', '@roland_mouret', '@casadeioffi...</td>\n",
       "      <td>False</td>\n",
       "      <td>False</td>\n",
       "      <td>NaN</td>\n",
       "      <td>['#dress', '#shoes', '#glam']</td>\n",
       "      <td>21539</td>\n",
       "      <td>https://www.instagram.com/p/BTRS6IOhz6J/?taken...</td>\n",
       "      <td>🌼Today's look for QVC.. styled by @bydanienl #...</td>\n",
       "    </tr>\n",
       "    <tr>\n",
       "      <th>4</th>\n",
       "      <td>988</td>\n",
       "      <td>www.sylviemeis.de</td>\n",
       "      <td>https://www.instagram.com/1misssmeis/</td>\n",
       "      <td>Sylvie Meis Official Account</td>\n",
       "      <td>233</td>\n",
       "      <td>TV Host Let's Dance for RTL Germany / SBS6 / P...</td>\n",
       "      <td>1misssmeis</td>\n",
       "      <td>720979</td>\n",
       "      <td>https://scontent.cdninstagram.com/t51.2885-19/...</td>\n",
       "      <td>18011499_901505923322739_4323762320120479744_n...</td>\n",
       "      <td>2017-04-22T05:00:00.000Z</td>\n",
       "      <td>https://scontent.cdninstagram.com/t51.2885-15/...</td>\n",
       "      <td>['@elisabettafranchi', '@serenagoldenbaum']</td>\n",
       "      <td>False</td>\n",
       "      <td>False</td>\n",
       "      <td>NaN</td>\n",
       "      <td>['#weekend', '#yay', '#happyweekend', '#kiss']</td>\n",
       "      <td>21054</td>\n",
       "      <td>https://www.instagram.com/p/BTLTV46BKDF/?taken...</td>\n",
       "      <td>💋Happy Weekend Lovelies ❤ #weekend #yay #happy...</td>\n",
       "    </tr>\n",
       "  </tbody>\n",
       "</table>\n",
       "</div>"
      ],
      "text/plain": [
       "   numberPosts            website                             urlProfile  \\\n",
       "0          988  www.sylviemeis.de  https://www.instagram.com/1misssmeis/   \n",
       "1          988  www.sylviemeis.de  https://www.instagram.com/1misssmeis/   \n",
       "2          988  www.sylviemeis.de  https://www.instagram.com/1misssmeis/   \n",
       "3          988  www.sylviemeis.de  https://www.instagram.com/1misssmeis/   \n",
       "4          988  www.sylviemeis.de  https://www.instagram.com/1misssmeis/   \n",
       "\n",
       "                       username  numberFollowing  \\\n",
       "0  Sylvie Meis Official Account              233   \n",
       "1  Sylvie Meis Official Account              233   \n",
       "2  Sylvie Meis Official Account              233   \n",
       "3  Sylvie Meis Official Account              233   \n",
       "4  Sylvie Meis Official Account              233   \n",
       "\n",
       "                                  descriptionProfile       alias  \\\n",
       "0  TV Host Let's Dance for RTL Germany / SBS6 / P...  1misssmeis   \n",
       "1  TV Host Let's Dance for RTL Germany / SBS6 / P...  1misssmeis   \n",
       "2  TV Host Let's Dance for RTL Germany / SBS6 / P...  1misssmeis   \n",
       "3  TV Host Let's Dance for RTL Germany / SBS6 / P...  1misssmeis   \n",
       "4  TV Host Let's Dance for RTL Germany / SBS6 / P...  1misssmeis   \n",
       "\n",
       "   numberFollowers                                      urlImgProfile  \\\n",
       "0           720979  https://scontent.cdninstagram.com/t51.2885-19/...   \n",
       "1           720979  https://scontent.cdninstagram.com/t51.2885-19/...   \n",
       "2           720979  https://scontent.cdninstagram.com/t51.2885-19/...   \n",
       "3           720979  https://scontent.cdninstagram.com/t51.2885-19/...   \n",
       "4           720979  https://scontent.cdninstagram.com/t51.2885-19/...   \n",
       "\n",
       "                                            filename  \\\n",
       "0  18161288_472089323136061_5128727096486526976_n...   \n",
       "1  18161312_678529115665252_1780327406628765696_n...   \n",
       "2  18096206_126240614590026_6106733145975947264_n...   \n",
       "3  18094963_1399253156802062_6673302163394920448_...   \n",
       "4  18011499_901505923322739_4323762320120479744_n...   \n",
       "\n",
       "                       date  \\\n",
       "0  2017-04-29T05:00:00.000Z   \n",
       "1  2017-04-29T05:00:00.000Z   \n",
       "2  2017-04-27T05:00:00.000Z   \n",
       "3  2017-04-24T05:00:00.000Z   \n",
       "4  2017-04-22T05:00:00.000Z   \n",
       "\n",
       "                                            urlImage  \\\n",
       "0  https://scontent.cdninstagram.com/t51.2885-15/...   \n",
       "1  https://scontent.cdninstagram.com/t51.2885-15/...   \n",
       "2  https://scontent.cdninstagram.com/t51.2885-15/...   \n",
       "3  https://scontent.cdninstagram.com/t51.2885-15/...   \n",
       "4  https://scontent.cdninstagram.com/t51.2885-15/...   \n",
       "\n",
       "                                            mentions  multipleImage  isVideo  \\\n",
       "0  ['@fraukeludowig_official', '@rtl_exclusiv', '...          False    False   \n",
       "1  ['@tine', '@rachelzoe', '@lecolook', '@letsdan...          False    False   \n",
       "2   ['@letsdance', '@rtlde', '@rtlde', '@letsdance']          False    False   \n",
       "3  ['@bydanienl', '@roland_mouret', '@casadeioffi...          False    False   \n",
       "4        ['@elisabettafranchi', '@serenagoldenbaum']          False    False   \n",
       "\n",
       "  localization                                            tags  numberLikes  \\\n",
       "0          NaN                            ['#exclusivspezial']        10047   \n",
       "1          NaN                 ['#jumpsuit', '#glam', '#ootn']        16781   \n",
       "2          NaN           ['#rehearsalday', '#behindthescenes']        11227   \n",
       "3          NaN                   ['#dress', '#shoes', '#glam']        21539   \n",
       "4          NaN  ['#weekend', '#yay', '#happyweekend', '#kiss']        21054   \n",
       "\n",
       "                                                 url  \\\n",
       "0  https://www.instagram.com/p/BTdS7XgBe4X/?taken...   \n",
       "1  https://www.instagram.com/p/BTdRaquBZTD/?taken...   \n",
       "2  https://www.instagram.com/p/BTZXesPhDsB/?taken...   \n",
       "3  https://www.instagram.com/p/BTRS6IOhz6J/?taken...   \n",
       "4  https://www.instagram.com/p/BTLTV46BKDF/?taken...   \n",
       "\n",
       "                                         description  \n",
       "0  With my lovely colleague @fraukeludowig_offici...  \n",
       "1  My look last night, hosting Let's Dance! Style...  \n",
       "2  Calm before the 'glam' storm! 💋💄💅🏻💆🏼💇🏼Tomorrow...  \n",
       "3  🌼Today's look for QVC.. styled by @bydanienl #...  \n",
       "4  💋Happy Weekend Lovelies ❤ #weekend #yay #happy...  "
      ]
     },
     "execution_count": 3,
     "metadata": {},
     "output_type": "execute_result"
    }
   ],
   "source": [
    "orig_dat.head()"
   ]
  },
  {
   "cell_type": "code",
   "execution_count": 5,
   "metadata": {},
   "outputs": [
    {
     "data": {
      "text/plain": [
       "(16539, 20)"
      ]
     },
     "execution_count": 5,
     "metadata": {},
     "output_type": "execute_result"
    }
   ],
   "source": [
    "orig_dat.shape"
   ]
  },
  {
   "cell_type": "code",
   "execution_count": 6,
   "metadata": {},
   "outputs": [],
   "source": [
    "#Apparently there a some corrupted images to drop manually\n",
    "# Drop corrupted images\n",
    "orig_dat = orig_dat[orig_dat['urlImage'] != 'https://scontent.cdninstagram.com/t51.2885-15/s640x640/sh0.08/e35/18161692_170571873469417_6901717925879611392_n.jpg']\n",
    "orig_dat = orig_dat[orig_dat['urlImage'] != 'https://scontent.cdninstagram.com/t51.2885-15/s640x640/sh0.08/e35/18251971_1131644876964262_6190143287764975616_n.jpg']"
   ]
  },
  {
   "cell_type": "code",
   "execution_count": 8,
   "metadata": {},
   "outputs": [
    {
     "data": {
      "text/plain": [
       "'https://scontent.cdninstagram.com/t51.2885-15/s640x640/sh0.08/e35/18161312_678529115665252_1780327406628765696_n.jpg'"
      ]
     },
     "execution_count": 8,
     "metadata": {},
     "output_type": "execute_result"
    }
   ],
   "source": [
    "orig_dat['urlImage'][1]"
   ]
  },
  {
   "cell_type": "code",
   "execution_count": null,
   "metadata": {},
   "outputs": [],
   "source": []
  },
  {
   "cell_type": "code",
   "execution_count": null,
   "metadata": {},
   "outputs": [],
   "source": []
  }
 ],
 "metadata": {
  "kernelspec": {
   "display_name": "Python 3",
   "language": "python",
   "name": "python3"
  },
  "language_info": {
   "codemirror_mode": {
    "name": "ipython",
    "version": 3
   },
   "file_extension": ".py",
   "mimetype": "text/x-python",
   "name": "python",
   "nbconvert_exporter": "python",
   "pygments_lexer": "ipython3",
   "version": "3.7.3"
  }
 },
 "nbformat": 4,
 "nbformat_minor": 2
}
